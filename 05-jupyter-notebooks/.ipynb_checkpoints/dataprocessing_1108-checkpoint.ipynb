{
 "cells": [
  {
   "cell_type": "markdown",
   "metadata": {},
   "source": [
    "Keeping track of what the hell I did to the data.\n",
    "\n",
    "Data sources\n",
    "- Water level at the dam (FILENAME)\n",
    "- Water level at the CIEH piezometer (FILENAME)\n",
    "- Water level at SIlmissin (didn't use in the end)\n",
    "- Rainfall data for 1961-2004 (Ouaga_rain.csv)\n",
    "- Rainfall data for 2005 - 2014 (all_precip.csv)\n",
    "- Rainfall data for 2016"
   ]
  },
  {
   "cell_type": "code",
   "execution_count": 57,
   "metadata": {},
   "outputs": [],
   "source": [
    "#import packages\n",
    "import numpy as np\n",
    "import pandas as pd\n",
    "import matplotlib.pyplot as plt"
   ]
  },
  {
   "cell_type": "markdown",
   "metadata": {},
   "source": [
    "#### Reservoir #3 water level data\n",
    "This was measured daily at the dam between 01-03-2012 and 31-12-2016. Missing days were filled using linear interpolation."
   ]
  },
  {
   "cell_type": "code",
   "execution_count": 14,
   "metadata": {},
   "outputs": [],
   "source": [
    "# Read into df, set datetime index\n",
    "res3 = pd.read_csv('../02-data/original-data/borehole/barrage-20122016.csv',names=('date','wl'))\n",
    "res3.date = pd.to_datetime(res3.date,dayfirst=True)\n",
    "res3 = res3.set_index(res3.date)\n",
    "\n",
    "# Reindex with full date range\n",
    "res3 = res3.reindex(pd.date_range('2012-03-01','2016-12-31'))\n",
    "\n",
    "# Interpolate over NaN values\n",
    "res3 = res3.interpolate()\n",
    "\n",
    "#reset index\n",
    "res3 = res3.reset_index(drop=True)\n",
    "\n",
    "#pickle the output\n",
    "#res3.to_pickle('../02-data/clean-data/barrage-interpolated-20122016.pkl')"
   ]
  },
  {
   "cell_type": "markdown",
   "metadata": {},
   "source": [
    "#### Rainfall data\n",
    "Daily data was available for the period 1961-2016, with a few missing days. The original data was in a rather eccentric Excel format which required a certain amount of tidying. "
   ]
  },
  {
   "cell_type": "code",
   "execution_count": 56,
   "metadata": {},
   "outputs": [
    {
     "data": {
      "text/html": [
       "<div>\n",
       "<style scoped>\n",
       "    .dataframe tbody tr th:only-of-type {\n",
       "        vertical-align: middle;\n",
       "    }\n",
       "\n",
       "    .dataframe tbody tr th {\n",
       "        vertical-align: top;\n",
       "    }\n",
       "\n",
       "    .dataframe thead th {\n",
       "        text-align: right;\n",
       "    }\n",
       "</style>\n",
       "<table border=\"1\" class=\"dataframe\">\n",
       "  <thead>\n",
       "    <tr style=\"text-align: right;\">\n",
       "      <th></th>\n",
       "      <th>date</th>\n",
       "      <th>rainfall</th>\n",
       "    </tr>\n",
       "  </thead>\n",
       "  <tbody>\n",
       "    <tr>\n",
       "      <td>0</td>\n",
       "      <td>1961-01-01</td>\n",
       "      <td>0.0</td>\n",
       "    </tr>\n",
       "    <tr>\n",
       "      <td>1</td>\n",
       "      <td>1961-01-02</td>\n",
       "      <td>0.0</td>\n",
       "    </tr>\n",
       "    <tr>\n",
       "      <td>2</td>\n",
       "      <td>1961-01-03</td>\n",
       "      <td>0.0</td>\n",
       "    </tr>\n",
       "    <tr>\n",
       "      <td>3</td>\n",
       "      <td>1961-01-04</td>\n",
       "      <td>0.0</td>\n",
       "    </tr>\n",
       "    <tr>\n",
       "      <td>4</td>\n",
       "      <td>1961-01-05</td>\n",
       "      <td>0.0</td>\n",
       "    </tr>\n",
       "  </tbody>\n",
       "</table>\n",
       "</div>"
      ],
      "text/plain": [
       "        date  rainfall\n",
       "0 1961-01-01       0.0\n",
       "1 1961-01-02       0.0\n",
       "2 1961-01-03       0.0\n",
       "3 1961-01-04       0.0\n",
       "4 1961-01-05       0.0"
      ]
     },
     "execution_count": 56,
     "metadata": {},
     "output_type": "execute_result"
    }
   ],
   "source": [
    "#load data into DF with date and month\n",
    "names = ('day','01','02','03','04','05','06','07','08','09','10','11','12')\n",
    "df = pd.read_csv('data/Ouaga_rain.csv',names=names)\n",
    "\n",
    "#get rid of missing rows\n",
    "df = df.dropna(how='all')\n",
    "\n",
    "#get rid of all of those weird extra rows\n",
    "df = df[(df.day!='DEC')&(df.day!='MOIS')&(df.day!='TOTAL')& \\\n",
    "        (df.day!='DATE')&(df.day!='JRS')&(df['05']!='PLUVI')& \\\n",
    "        (df['04']!='OUAG')]\n",
    "\n",
    "#add year column (all months have 31 days in this weird-ass spreadsheet)\n",
    "years = []\n",
    "for i in range(1961,2005):\n",
    "    yr = [i]*31\n",
    "    years = years + yr\n",
    "df['year'] = years\n",
    "\n",
    "#rearrange columns\n",
    "cols = df.columns.tolist()\n",
    "cols2 = cols[-1:] + cols[:-1]\n",
    "df=df[cols2]\n",
    "\n",
    "#melt into long form and get rid of nans\n",
    "value_vars = ['01','02','03','04','05','06','07','08','09','10','11','12']\n",
    "df = pd.melt(df,id_vars=['year','day'],\n",
    "          value_vars=value_vars,\n",
    "          var_name='month',value_name='rainfall')\n",
    "df=df.dropna(how='any')\n",
    "\n",
    "#there is a stray 31/11/1994 in this dataset, somewhere I wrote some code to locate it but I can't find it :(\n",
    "#anyway, let's get rid of that line\n",
    "df=df.drop(index=14693)\n",
    "\n",
    "#add a datetime column for full date\n",
    "df['date'] = pd.to_datetime(df[['year','month','day']],dayfirst=True)\n",
    "\n",
    "#replace random nans bits and pieces\n",
    "df = df.replace(to_replace='**',value=np.nan)\n",
    "df = df.replace(to_replace='.',value=0)\n",
    "df = df.replace(to_replace='TR',value=0)\n",
    "df['rainfall'] = df['rainfall'].astype('float64')\n",
    "\n",
    "#final ouput just date and var\n",
    "final = df[['date','rainfall']]\n",
    "final.head()"
   ]
  },
  {
   "cell_type": "code",
   "execution_count": 59,
   "metadata": {},
   "outputs": [
    {
     "data": {
      "text/plain": [
       "[<matplotlib.lines.Line2D at 0x1baa79b17f0>]"
      ]
     },
     "execution_count": 59,
     "metadata": {},
     "output_type": "execute_result"
    },
    {
     "data": {
      "image/png": "[encoded data removed]",
      "text/plain": [
       "<Figure size 432x288 with 1 Axes>"
      ]
     },
     "metadata": {
      "needs_background": "light"
     },
     "output_type": "display_data"
    }
   ],
   "source": [
    "plt.plot(final.date,final.rainfall,'.')"
   ]
  },
  {
   "cell_type": "code",
   "execution_count": null,
   "metadata": {},
   "outputs": [],
   "source": [
    "#load rainfall 2004-2016 and combine\n",
    "names = ('date','rainfall')\n",
    "p7816 = pd.read_csv('data/all_precip.csv',names=names)\n",
    "p7816['date'] = pd.to_datetime(p7816['date'],dayfirst=True)\n",
    "p_6104 = pd.read_pickle('data/precip_6103.pkl')\n",
    "\n",
    "p_6104.info()\n",
    "p7816.info()\n",
    "\n",
    "startdate = '03/31/1978'\n",
    "enddate = '01/01/2005'\n",
    "comp = p_6104['date']>startdate\n",
    "pcomp = p_6104[comp]\n",
    "pcomp = pcomp.reset_index(drop=True)\n",
    "comp2 = p7816['date']<enddate\n",
    "pcomp2 = p7816[comp2]\n",
    "pcomp2 = pcomp2.reset_index(drop=True)\n",
    "len(pcomp2)\n",
    "\n",
    "pcomp2['pmatch?'] = np.where(pcomp['rainfall'] == pcomp2['rainfall'],'True','False')\n",
    "\n",
    "newdate = '12/31/2004'\n",
    "extra = p7816['date']>newdate\n",
    "toadd = p7816[extra]\n",
    "pall = p_6104.append(toadd)\n",
    "pall = pall.reset_index(drop=True)\n",
    "check = pall['date']>'12/30/2004'\n",
    "pall[check].head()\n",
    "pall.info()\n",
    "pall.to_pickle('data/p6116.pkl')\n",
    "\n",
    "names = ('date','rainfall')\n",
    "p17 = pd.read_csv('data/p_2017.csv',names=names)\n",
    "p17['date'] = pd.to_datetime(p17['date'],dayfirst=True)\n",
    "pcomplete = pall.append(p17)\n",
    "pcomplete = pcomplete.reset_index(drop=True)\n",
    "pcomplete.tail(n=400)\n",
    "pcomplete.to_pickle('data/p6117.pkl')\n"
   ]
  },
  {
   "cell_type": "code",
   "execution_count": 54,
   "metadata": {},
   "outputs": [
    {
     "data": {
      "text/html": [
       "<div>\n",
       "<style scoped>\n",
       "    .dataframe tbody tr th:only-of-type {\n",
       "        vertical-align: middle;\n",
       "    }\n",
       "\n",
       "    .dataframe tbody tr th {\n",
       "        vertical-align: top;\n",
       "    }\n",
       "\n",
       "    .dataframe thead th {\n",
       "        text-align: right;\n",
       "    }\n",
       "</style>\n",
       "<table border=\"1\" class=\"dataframe\">\n",
       "  <thead>\n",
       "    <tr style=\"text-align: right;\">\n",
       "      <th></th>\n",
       "      <th>year</th>\n",
       "      <th>day</th>\n",
       "      <th>month</th>\n",
       "      <th>rainfall</th>\n",
       "      <th>date</th>\n",
       "    </tr>\n",
       "  </thead>\n",
       "  <tbody>\n",
       "    <tr>\n",
       "      <td>0</td>\n",
       "      <td>1961</td>\n",
       "      <td>1</td>\n",
       "      <td>1</td>\n",
       "      <td>.</td>\n",
       "      <td>1961-01-01</td>\n",
       "    </tr>\n",
       "    <tr>\n",
       "      <td>1</td>\n",
       "      <td>1961</td>\n",
       "      <td>2</td>\n",
       "      <td>1</td>\n",
       "      <td>.</td>\n",
       "      <td>1961-01-02</td>\n",
       "    </tr>\n",
       "    <tr>\n",
       "      <td>2</td>\n",
       "      <td>1961</td>\n",
       "      <td>3</td>\n",
       "      <td>1</td>\n",
       "      <td>.</td>\n",
       "      <td>1961-01-03</td>\n",
       "    </tr>\n",
       "    <tr>\n",
       "      <td>3</td>\n",
       "      <td>1961</td>\n",
       "      <td>4</td>\n",
       "      <td>1</td>\n",
       "      <td>.</td>\n",
       "      <td>1961-01-04</td>\n",
       "    </tr>\n",
       "    <tr>\n",
       "      <td>4</td>\n",
       "      <td>1961</td>\n",
       "      <td>5</td>\n",
       "      <td>1</td>\n",
       "      <td>.</td>\n",
       "      <td>1961-01-05</td>\n",
       "    </tr>\n",
       "  </tbody>\n",
       "</table>\n",
       "</div>"
      ],
      "text/plain": [
       "   year  day  month rainfall       date\n",
       "0  1961    1      1        . 1961-01-01\n",
       "1  1961    2      1        . 1961-01-02\n",
       "2  1961    3      1        . 1961-01-03\n",
       "3  1961    4      1        . 1961-01-04\n",
       "4  1961    5      1        . 1961-01-05"
      ]
     },
     "execution_count": 54,
     "metadata": {},
     "output_type": "execute_result"
    }
   ],
   "source": [
    "#plot the combined data to check\n"
   ]
  },
  {
   "cell_type": "markdown",
   "metadata": {},
   "source": [
    "#### Functions for cleaning the Ouaga climate data\n",
    "This really needs a line checking for weird dates, but really on the rainfall has it."
   ]
  },
  {
   "cell_type": "code",
   "execution_count": null,
   "metadata": {},
   "outputs": [],
   "source": [
    "def clean(filename,var,varshort):\n",
    "    '''Cleans the weirdly formatted climate data from Ouaga, return pandas\n",
    "    df with just the date and variable.\n",
    "    Arguments:\n",
    "    ==========\n",
    "    filename (str): CSV file in data folder\n",
    "    var(str): variable in English we're looking at\n",
    "    varshort (str): short version of the var in Fr which is in cell F2 (or whatever) to target cleaning'''\n",
    "    \n",
    "    import pandas as pd\n",
    "    import numpy as np\n",
    "    \n",
    "    #load data and ditch na\n",
    "    names = ('day','01','02','03','04','05','06','07','08','09','10','11','12')\n",
    "    df = pd.read_csv(f'data/{filename}',names=names)\n",
    "    df = df.dropna(how='all')\n",
    "    df = df[(df.day!='DEC')&(df.day!='MOIS')&(df.day!='TOTAL')& \\\n",
    "            (df.day!='DATE')&(df.day!='JRS')&(df['05']!=varshort)& \\\n",
    "            (df['04']!='OUAG')]\n",
    "    \n",
    "    #add year column what am I doing here?\n",
    "    years = []\n",
    "    for i in range(1961,2005):\n",
    "        yr = [i]*31\n",
    "        years = years + yr\n",
    "    df['year'] = years\n",
    "    \n",
    "    #rearrange columns\n",
    "    cols = df.columns.tolist()\n",
    "    cols2 = cols[-1:] + cols[:-1]\n",
    "    df=df[cols2]\n",
    "    \n",
    "    #melt into long form and get rid of nans\n",
    "    value_vars = ['01','02','03','04','05','06','07','08','09','10','11','12']\n",
    "    df = pd.melt(df,id_vars=['year','day'],\n",
    "              value_vars=value_vars,\n",
    "              var_name='month',value_name=var)\n",
    "    df=df.dropna(how='any')\n",
    "    \n",
    "    #add a datetime column for full date\n",
    "    df['date'] = pd.to_datetime(df[['year','month','day']],dayfirst=True)\n",
    "    \n",
    "    #replace random nans bits and pieces\n",
    "    df = df.replace(to_replace='**',value=np.nan)\n",
    "    df = df.replace(to_replace='.',value=0)\n",
    "    df = df.replace(to_replace='TR',value=0)\n",
    "    df[var] = df[var].astype('float64')\n",
    "    \n",
    "    #final ouput just date and var\n",
    "    final = df[['date',var]]\n",
    "    \n",
    "    return final\n",
    "\n",
    "#################\n",
    "# TEST FUNCTION #\n",
    "#################\n",
    "\n",
    "all_rain = clean('Ouaga_rain.csv','rainfall','PLUVI')\n",
    "all_rain"
   ]
  },
  {
   "cell_type": "code",
   "execution_count": null,
   "metadata": {},
   "outputs": [],
   "source": []
  }
 ],
 "metadata": {
  "kernelspec": {
   "display_name": "Python 3",
   "language": "python",
   "name": "python3"
  },
  "language_info": {
   "codemirror_mode": {
    "name": "ipython",
    "version": 3
   },
   "file_extension": ".py",
   "mimetype": "text/x-python",
   "name": "python",
   "nbconvert_exporter": "python",
   "pygments_lexer": "ipython3",
   "version": "3.7.3"
  }
 },
 "nbformat": 4,
 "nbformat_minor": 2
}
