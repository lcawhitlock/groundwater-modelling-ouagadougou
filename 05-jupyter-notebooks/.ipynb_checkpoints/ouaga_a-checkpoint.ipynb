{
 "cells": [
  {
   "cell_type": "markdown",
   "metadata": {},
   "source": [
    "### Modelling a shallow crystalline aquifer in MODFLOW using FloPy"
   ]
  },
  {
   "cell_type": "markdown",
   "metadata": {},
   "source": [
    "The numerical model was developed using MODFLOW, an open access groundwater modelling software developed by the US Government that uses a finite-difference approach to solve the groundwater flow equations (Harbaugh, 2005). Model development and post-processing were conducted using the Python package [FloPy](https://flopy.readthedocs.io/en/latest/index.html) to implement [MODFLOW-2005](https://www.usgs.gov/software/modflow-2005-usgs-three-dimensional-finite-difference-ground-water-model).  \n",
    "\n",
    "#### Defining the model grid and domain\n",
    "\n",
    "Due to the complexity of the local geology and the limited hydrogeological data available, a simplified model was developed of a single-layer unconfined aquifer of length 6000 m with a thickness of 30 m and uniform hydraulic conductivity. The initial model set up consisted of a 1D model of 200 columns of cells of width 30 m and depth 30 m with Reservoir No. 3 at one boundary (A) and the piezometer 1020 m away (B) (figure xxx). The reservoir is connected directly to the aquifer, and controls the flow of water within the system. Focused recharge from the nearby university canal was assumed to be negligible compared to recharge from the barrage, and was not included in the model.\n",
    "\n",
    "Following Reilly (2001) the reservoir was modelled as a limited specified head (Dirichlet) boundary, as the stage in the reservoir was not expected to be affected by the behaviour in the groundwater system. In order to allow the head at the barrage to vary within a stress period, a flow and head boundary (FHB; Leake and Lilly, 1997) was used to model the barrage, with head varying on a daily timestep. The boundary at C was modelled as a head-dependent (Cauchy) boundary (Franke et al., 1987) using a general head boundary (GHB; Harbaugh, 2005) with flow proportional to modelled head within the unconfined aquifer. Since the boundary at C does not represent a real physical boundary, it was placed at a significant distance (5 km) from the piezometer in order to limit errors associated with this boundary. Drainage within the groundwater system was modelled by placing drains in each node at an elevation equal to the base of the aquifer, with constant drain conductance in each cell.\n",
    "\n",
    "#### Experiments\n",
    "\n",
    "The model was first run driven solely by the changing water levels at the reservoir, and then with a recharge component applied across the whole model domain. Recharge was defined as equivalent infiltration *In*, calculated as that part of precipitation *P* which enters the unsaturated zone, defined as the precipitation minus runoff *Ro* and the reference evapotranspiration *ET0*.\n",
    "\n",
    "#### To do 09/03\n",
    "\n",
    "- Diagram of model\n",
    "- Paths to input data\n",
    "- check HydroErr"
   ]
  },
  {
   "cell_type": "code",
   "execution_count": 1,
   "metadata": {},
   "outputs": [
    {
     "name": "stdout",
     "output_type": "stream",
     "text": [
      "flopy is installed in C:\\Users\\lcawh\\Anaconda3\\envs\\flopyenv\\lib\\site-packages\\flopy\n"
     ]
    }
   ],
   "source": [
    "#import packages\n",
    "import flopy\n",
    "import flopy.utils.binaryfile as bf\n",
    "#import HydroErr as he not in flopyenv\n",
    "import os\n",
    "import numpy as np\n",
    "import matplotlib.pyplot as plt\n",
    "import matplotlib.gridspec as gridspec\n",
    "from matplotlib.lines import Line2D\n",
    "import pandas as pd"
   ]
  },
  {
   "cell_type": "code",
   "execution_count": 2,
   "metadata": {},
   "outputs": [],
   "source": [
    "#quick rolling average function\n",
    "def moving_average(a, n) :\n",
    "    ret = np.cumsum(a, dtype=float)\n",
    "    ret[n:] = ret[n:] - ret[:-n]\n",
    "    return ret[n - 1:] / n"
   ]
  },
  {
   "cell_type": "code",
   "execution_count": 6,
   "metadata": {},
   "outputs": [
    {
     "data": {
      "text/html": [
       "<div>\n",
       "<style scoped>\n",
       "    .dataframe tbody tr th:only-of-type {\n",
       "        vertical-align: middle;\n",
       "    }\n",
       "\n",
       "    .dataframe tbody tr th {\n",
       "        vertical-align: top;\n",
       "    }\n",
       "\n",
       "    .dataframe thead th {\n",
       "        text-align: right;\n",
       "    }\n",
       "</style>\n",
       "<table border=\"1\" class=\"dataframe\">\n",
       "  <thead>\n",
       "    <tr style=\"text-align: right;\">\n",
       "      <th></th>\n",
       "      <th>date</th>\n",
       "      <th>wl</th>\n",
       "    </tr>\n",
       "  </thead>\n",
       "  <tbody>\n",
       "    <tr>\n",
       "      <td>0</td>\n",
       "      <td>2012-03-01</td>\n",
       "      <td>290.38</td>\n",
       "    </tr>\n",
       "    <tr>\n",
       "      <td>1</td>\n",
       "      <td>2012-03-02</td>\n",
       "      <td>290.37</td>\n",
       "    </tr>\n",
       "    <tr>\n",
       "      <td>2</td>\n",
       "      <td>2012-03-03</td>\n",
       "      <td>290.36</td>\n",
       "    </tr>\n",
       "    <tr>\n",
       "      <td>3</td>\n",
       "      <td>2012-03-04</td>\n",
       "      <td>290.35</td>\n",
       "    </tr>\n",
       "    <tr>\n",
       "      <td>4</td>\n",
       "      <td>2012-03-05</td>\n",
       "      <td>290.33</td>\n",
       "    </tr>\n",
       "  </tbody>\n",
       "</table>\n",
       "</div>"
      ],
      "text/plain": [
       "        date      wl\n",
       "0 2012-03-01  290.38\n",
       "1 2012-03-02  290.37\n",
       "2 2012-03-03  290.36\n",
       "3 2012-03-04  290.35\n",
       "4 2012-03-05  290.33"
      ]
     },
     "execution_count": 6,
     "metadata": {},
     "output_type": "execute_result"
    }
   ],
   "source": [
    "#load data\n",
    "df = pd.read_pickle(r'C:\\Users\\lcawh\\Documents\\UCL\\Code\\ouagadougou-2020\\processed-data/res3_int.pkl')\n",
    "\n",
    "P = df.rainfall.to_numpy()\n",
    "R = df.barrage.to_numpy()\n",
    "Pma3 = moving_average(P,3)\n",
    "Rma3 = moving_average(R,3)"
   ]
  },
  {
   "cell_type": "code",
   "execution_count": null,
   "metadata": {},
   "outputs": [],
   "source": [
    "#load data\n",
    "df = pd.read_pickle('model-data/MODdf.pkl')\n",
    "\n",
    "test = df.head()\n",
    "test\n",
    "#P = df.rainfall.to_numpy()\n",
    "#R = df.barrage.to_numpy()\n",
    "#Pma3 = moving_average(P,3)\n",
    "#Rma3 = moving_average(R,3)\n",
    "\n",
    "#gwl = pd.read_csv('model-data/CIEH1216.csv',names=('date','gwl'))\n",
    "#gwl['date'] = pd.to_datetime(gwl.date,dayfirst=True)"
   ]
  },
  {
   "cell_type": "code",
   "execution_count": 7,
   "metadata": {},
   "outputs": [],
   "source": [
    "#create model object and define workspace for model (so you don't end up with model files everywhere)\n",
    "modelname = 'test1'\n",
    "exe_name = r'C:\\Users\\lcawh\\Documents\\mf2005\\bin\\mf2005'\n",
    "\n",
    "#define workspace for model\n",
    "workspace = os.path.join('ouaga_a')\n",
    "if not os.path.exists(workspace):\n",
    "    os.makedirs(workspace)\n",
    "\n",
    "mf = flopy.modflow.Modflow(modelname, exe_name=exe_name, model_ws = workspace)"
   ]
  },
  {
   "cell_type": "markdown",
   "metadata": {},
   "source": [
    "#### Data required\n",
    "\n",
    "- interpolated reservoir water level data b_intp.pkl for driving boundary at A (this file seems to have vanished entirely)\n",
    "- observed piezometric data FILENAME for comparison\n",
    "\n",
    "#### Other things to note\n",
    "- tinmesteps = number of days (I ahyve no idea f this is right)\n",
    "\n"
   ]
  },
  {
   "cell_type": "code",
   "execution_count": 8,
   "metadata": {},
   "outputs": [],
   "source": [
    "#define model grid and domain\n",
    "Lx = 6000\n",
    "Ly = 1\n",
    "ztop = 290\n",
    "zbtm = 260\n",
    "nlay = 1\n",
    "nrow = 1\n",
    "ncol = 200\n",
    "delr = Lx / ncol\n",
    "delc = Ly / nrow\n",
    "delv = 30\n",
    "btm = np.linspace(ztop, zbtm, 2)\n",
    "hk = 1.75\n",
    "vka = 1\n",
    "sy = 0.038\n",
    "ss = 5.e-4\n",
    "laytyp = 1\n",
    "\n",
    "#define cell types (all variable heads)\n",
    "ibound = np.ones((nlay, nrow, ncol), dtype=np.int32)\n",
    "\n",
    "#set starting heads\n",
    "strt = 287*np.ones((nlay, nrow, ncol), dtype=np.float32)\n",
    "strt[0,0,0] = 290.38 #first vale of data\n",
    "strt[0,0,-1] = 261 #low gradient"
   ]
  },
  {
   "cell_type": "markdown",
   "metadata": {},
   "source": [
    "Stress periods: at least two, one steady state (i.e. steady=True) and one transient with timesteps equivalent to the number of input data items (here days, so 1767)."
   ]
  },
  {
   "cell_type": "code",
   "execution_count": 9,
   "metadata": {},
   "outputs": [],
   "source": [
    "#define stress periods\n",
    "nper = 2\n",
    "perlen = [1,1767]\n",
    "nstp = [1,1767]\n",
    "steady = [True, False]"
   ]
  },
  {
   "cell_type": "markdown",
   "metadata": {},
   "source": [
    "#### Time invariant objects\n",
    "NB for ModflowDis, the default unit is feet, ffs. You need to set the unit to meeters (lenuni=2) and the time unit to days (itmuni=4), more info here."
   ]
  },
  {
   "cell_type": "code",
   "execution_count": 10,
   "metadata": {},
   "outputs": [],
   "source": [
    "#create time invariant objects\n",
    "dis = flopy.modflow.ModflowDis(mf, nlay, nrow, ncol, delr=delr, delc=delc,\n",
    "                           top=ztop, botm=btm[1:], nper=nper, itmuni=4,\n",
    "                           lenuni=2, perlen=perlen, nstp=nstp, steady=steady)\n",
    "bas = flopy.modflow.ModflowBas(mf, ibound=ibound, strt=strt)\n",
    "lpf = flopy.modflow.ModflowLpf(mf, hk=hk, vka=vka, sy=sy, ss=ss, \n",
    "                               laytyp=laytyp, ipakcb=53)\n",
    "pcg = flopy.modflow.ModflowPcg(mf)"
   ]
  },
  {
   "cell_type": "markdown",
   "metadata": {},
   "source": [
    "#### Limited specified head boundary (A)\n",
    "For the reservoir, head is specified on a daily basis from stress period 2, based on the reservoir data provided. The fhb object requires the number of timesteps (nbdtime), the number of cells for which the head is specified (nhed), and the list of head data (ds7)."
   ]
  },
  {
   "cell_type": "code",
   "execution_count": 11,
   "metadata": {},
   "outputs": [
    {
     "ename": "ValueError",
     "evalue": "setting an array element with a sequence.",
     "output_type": "error",
     "traceback": [
      "\u001b[1;31m---------------------------------------------------------------------------\u001b[0m",
      "\u001b[1;31mValueError\u001b[0m                                Traceback (most recent call last)",
      "\u001b[1;32m<ipython-input-11-29e73019d37f>\u001b[0m in \u001b[0;36m<module>\u001b[1;34m\u001b[0m\n\u001b[0;32m     12\u001b[0m \u001b[0mbdtime\u001b[0m \u001b[1;33m=\u001b[0m \u001b[1;33m[\u001b[0m\u001b[0mi\u001b[0m \u001b[1;32mfor\u001b[0m \u001b[0mi\u001b[0m \u001b[1;32min\u001b[0m \u001b[0mrange\u001b[0m\u001b[1;33m(\u001b[0m\u001b[1;36m0\u001b[0m\u001b[1;33m,\u001b[0m\u001b[1;36m1767\u001b[0m\u001b[1;33m)\u001b[0m\u001b[1;33m]\u001b[0m\u001b[1;33m\u001b[0m\u001b[1;33m\u001b[0m\u001b[0m\n\u001b[0;32m     13\u001b[0m \u001b[1;33m\u001b[0m\u001b[0m\n\u001b[1;32m---> 14\u001b[1;33m \u001b[0mfhb\u001b[0m \u001b[1;33m=\u001b[0m \u001b[0mflopy\u001b[0m\u001b[1;33m.\u001b[0m\u001b[0mmodflow\u001b[0m\u001b[1;33m.\u001b[0m\u001b[0mModflowFhb\u001b[0m\u001b[1;33m(\u001b[0m\u001b[0mmf\u001b[0m\u001b[1;33m,\u001b[0m \u001b[0mnbdtim\u001b[0m\u001b[1;33m=\u001b[0m\u001b[1;36m1767\u001b[0m\u001b[1;33m,\u001b[0m \u001b[0mnhed\u001b[0m\u001b[1;33m=\u001b[0m\u001b[1;36m1\u001b[0m\u001b[1;33m,\u001b[0m\u001b[0mbdtime\u001b[0m\u001b[1;33m=\u001b[0m\u001b[0mbdtime\u001b[0m\u001b[1;33m,\u001b[0m \u001b[0mds7\u001b[0m\u001b[1;33m=\u001b[0m\u001b[0mds7\u001b[0m\u001b[1;33m)\u001b[0m\u001b[1;33m\u001b[0m\u001b[1;33m\u001b[0m\u001b[0m\n\u001b[0m",
      "\u001b[1;32m~\\Anaconda3\\envs\\flopyenv\\lib\\site-packages\\flopy\\modflow\\mffhb.py\u001b[0m in \u001b[0;36m__init__\u001b[1;34m(self, model, nbdtim, nflw, nhed, ifhbss, ipakcb, nfhbx1, nfhbx2, ifhbpt, bdtimecnstm, bdtime, cnstm5, ds5, cnstm7, ds7, extension, unitnumber, filenames)\u001b[0m\n\u001b[0;32m    229\u001b[0m             \u001b[1;31m# convert numpy array to a recarray\u001b[0m\u001b[1;33m\u001b[0m\u001b[1;33m\u001b[0m\u001b[1;33m\u001b[0m\u001b[0m\n\u001b[0;32m    230\u001b[0m             \u001b[1;32mif\u001b[0m \u001b[0mds7\u001b[0m\u001b[1;33m.\u001b[0m\u001b[0mdtype\u001b[0m \u001b[1;33m!=\u001b[0m \u001b[0mdtype\u001b[0m\u001b[1;33m:\u001b[0m\u001b[1;33m\u001b[0m\u001b[1;33m\u001b[0m\u001b[0m\n\u001b[1;32m--> 231\u001b[1;33m                 \u001b[0mds7\u001b[0m \u001b[1;33m=\u001b[0m \u001b[0mnp\u001b[0m\u001b[1;33m.\u001b[0m\u001b[0mcore\u001b[0m\u001b[1;33m.\u001b[0m\u001b[0mrecords\u001b[0m\u001b[1;33m.\u001b[0m\u001b[0mfromarrays\u001b[0m\u001b[1;33m(\u001b[0m\u001b[0mds7\u001b[0m\u001b[1;33m.\u001b[0m\u001b[0mtranspose\u001b[0m\u001b[1;33m(\u001b[0m\u001b[1;33m)\u001b[0m\u001b[1;33m,\u001b[0m \u001b[0mdtype\u001b[0m\u001b[1;33m=\u001b[0m\u001b[0mdtype\u001b[0m\u001b[1;33m)\u001b[0m\u001b[1;33m\u001b[0m\u001b[1;33m\u001b[0m\u001b[0m\n\u001b[0m\u001b[0;32m    232\u001b[0m \u001b[1;33m\u001b[0m\u001b[0m\n\u001b[0;32m    233\u001b[0m         \u001b[1;31m# assign dataset 7\u001b[0m\u001b[1;33m\u001b[0m\u001b[1;33m\u001b[0m\u001b[1;33m\u001b[0m\u001b[0m\n",
      "\u001b[1;32m~\\Anaconda3\\envs\\flopyenv\\lib\\site-packages\\numpy\\core\\records.py\u001b[0m in \u001b[0;36mfromarrays\u001b[1;34m(arrayList, dtype, shape, formats, names, titles, aligned, byteorder)\u001b[0m\n\u001b[0;32m    643\u001b[0m     \u001b[1;31m# populate the record array (makes a copy)\u001b[0m\u001b[1;33m\u001b[0m\u001b[1;33m\u001b[0m\u001b[1;33m\u001b[0m\u001b[0m\n\u001b[0;32m    644\u001b[0m     \u001b[1;32mfor\u001b[0m \u001b[0mi\u001b[0m \u001b[1;32min\u001b[0m \u001b[0mrange\u001b[0m\u001b[1;33m(\u001b[0m\u001b[0mlen\u001b[0m\u001b[1;33m(\u001b[0m\u001b[0marrayList\u001b[0m\u001b[1;33m)\u001b[0m\u001b[1;33m)\u001b[0m\u001b[1;33m:\u001b[0m\u001b[1;33m\u001b[0m\u001b[1;33m\u001b[0m\u001b[0m\n\u001b[1;32m--> 645\u001b[1;33m         \u001b[0m_array\u001b[0m\u001b[1;33m[\u001b[0m\u001b[0m_names\u001b[0m\u001b[1;33m[\u001b[0m\u001b[0mi\u001b[0m\u001b[1;33m]\u001b[0m\u001b[1;33m]\u001b[0m \u001b[1;33m=\u001b[0m \u001b[0marrayList\u001b[0m\u001b[1;33m[\u001b[0m\u001b[0mi\u001b[0m\u001b[1;33m]\u001b[0m\u001b[1;33m\u001b[0m\u001b[1;33m\u001b[0m\u001b[0m\n\u001b[0m\u001b[0;32m    646\u001b[0m \u001b[1;33m\u001b[0m\u001b[0m\n\u001b[0;32m    647\u001b[0m     \u001b[1;32mreturn\u001b[0m \u001b[0m_array\u001b[0m\u001b[1;33m\u001b[0m\u001b[1;33m\u001b[0m\u001b[0m\n",
      "\u001b[1;31mValueError\u001b[0m: setting an array element with a sequence."
     ]
    }
   ],
   "source": [
    "#set up variable head\n",
    "#load data from pickle\n",
    "#df = pd.read_pickle('data/b_intp.pkl')\n",
    "b_heads = df.to_numpy()\n",
    "b_all = b_heads.tolist()\n",
    "ds7 =[0,0,0,0]\n",
    "for i in b_all:\n",
    "    ds7.append(i)\n",
    "ds7=[ds7]\n",
    "\n",
    "#generate list of timesteps\n",
    "bdtime = [i for i in range(0,1767)]\n",
    "\n",
    "fhb = flopy.modflow.ModflowFhb(mf, nbdtim=1767, nhed=1,bdtime=bdtime, ds7=ds7)"
   ]
  },
  {
   "cell_type": "markdown",
   "metadata": {},
   "source": [
    "#### General head boundary (C)\n",
    "The ghb module requires the stage and conductance for each stress period. Here, was set as constant."
   ]
  },
  {
   "cell_type": "code",
   "execution_count": null,
   "metadata": {},
   "outputs": [],
   "source": [
    "#ghb data\n",
    "stageright = 261\n",
    "condright = hk * (stageright - zbtm) * delc\n",
    "stress_period_data = {0: [[0,0,199, stageright, condright]],\n",
    "                          1: [[0,0,199, stageright, condright]]}\n",
    "ghb = flopy.modflow.ModflowGhb(mf, stress_period_data=stress_period_data)"
   ]
  },
  {
   "cell_type": "markdown",
   "metadata": {},
   "source": [
    "#### Drains\n",
    "The drain module requires elevation (in m) and conductance for each cell and stress period. Here, the conductance is set as constant and identical for each cell."
   ]
  },
  {
   "cell_type": "code",
   "execution_count": null,
   "metadata": {},
   "outputs": [],
   "source": [
    "#drain module\n",
    "elev = elev\n",
    "#cond = 0.0001*hk*(277 - zbtm) / delr\n",
    "cond = cond\n",
    "drn_sp2 = []\n",
    "for n in range(ncol):\n",
    "    drn_sp2.append([0,0,n,elev,cond])\n",
    "spd = {0: 0, 1: drn_sp2}\n",
    "\n",
    "drn = flopy.modflow.ModflowDrn(mf, stress_period_data=spd)    "
   ]
  },
  {
   "cell_type": "code",
   "execution_count": null,
   "metadata": {},
   "outputs": [],
   "source": [
    "#some more stuff do do withs saving data idgi :(\n",
    "stress_period_data = {}\n",
    "for kper in range(nper):\n",
    "    for kstp in range(nstp[kper]):\n",
    "        stress_period_data[(kper, kstp)] = ['save head',\n",
    "                                            'save drawdown',\n",
    "                                            'save budget',\n",
    "                                            'print head',\n",
    "                                            'print budget']\n",
    "oc = flopy.modflow.ModflowOc(mf, stress_period_data=stress_period_data,\n",
    "                             compact=True)"
   ]
  },
  {
   "cell_type": "code",
   "execution_count": null,
   "metadata": {},
   "outputs": [],
   "source": [
    "#write model input\n",
    "mf.write_input()\n",
    "\n",
    "# remove existing heads results, if necessary (so necessary)\n",
    "try:\n",
    "    os.remove(os.path.join(model_ws, '{0}.hds'.format(modelname)))\n",
    "    os.remove(os.path.join(model_ws, '{0}.cbc'.format(modelname)))\n",
    "except:\n",
    "    pass\n",
    "\n",
    "#run model\n",
    "success, mfoutput = mf.run_model(silent=True, pause=False, report=True)\n",
    "if not success:\n",
    "    raise Exception('MODFLOW did not terminate normally.')"
   ]
  },
  {
   "cell_type": "markdown",
   "metadata": {},
   "source": [
    "#### Inspecting and plotting the model output\n",
    "Having run the model (hopefully) successfully, we need to inspect the output. First, check out the head across the model domain for the steady state period."
   ]
  },
  {
   "cell_type": "code",
   "execution_count": null,
   "metadata": {},
   "outputs": [],
   "source": [
    "#generate head file for plotting \n",
    "headobj = bf.HeadFile(workspace + '/' + modelname + '.hds')\n",
    "\n",
    "#plot head across domain in steady state\n",
    "h = headobj.get_data(totim=1.0)    \n",
    "f = range(0,6000,30)\n",
    "fig = plt.figure(figsize=(12,6))\n",
    "\n",
    "plt.plot(f,h[0,0,:])\n",
    "plt.axvline(color='gray',linewidth=1,linestyle='--',x=1020,\n",
    "            label='piezometer')\n",
    "plt.title(f'{modelname}: Steady state head across domain')\n",
    "plt.xlabel('x (m)')\n",
    "plt.ylabel('head (m)')\n",
    "plt.legend(loc='best',frameon=False)"
   ]
  },
  {
   "cell_type": "markdown",
   "metadata": {},
   "source": [
    "Then, plot the output over time. NB cell #34 is the location of the piezometer."
   ]
  },
  {
   "cell_type": "code",
   "execution_count": null,
   "metadata": {},
   "outputs": [],
   "source": [
    "days = pd.date_range(start='03/01/2012',periods=1767)\n",
    "d = (0,0,34)\n",
    "ts = headobj.get_ts(d)\n",
    "heads = ts[1:1768, 1]\n",
    "dfmod = pd.DataFrame({'date': days, 'model': heads})  \n",
    "\n",
    "#calculate errors for the output\n",
    "y_obs = gwl.gwl.to_numpy()\n",
    "y_pred = pd.merge(dfmod,gwl,how='inner',on='date')\n",
    "y_pred = y_pred.model.to_numpy()\n",
    "\n",
    "\n",
    "#plot head and barrage for transient stress period\n",
    "cells = (0,34) \n",
    "labels = ('barrage','groundwater (modelled)')\n",
    "colors = ('#9467bd','red')\n",
    "style = ('solid','dashdot') \n",
    "'''\n",
    "table_data = [[\"Parameter\",\"Value\"],\n",
    "              [\"Drain elevation (m)\", elev],\n",
    "              [\"Drain conductance (m$^{2}$d$^{-1}$)\", cond],\n",
    "              [\"K (md$^{-1}$)\", hk], \n",
    "              [\"S$_y$\", sy], \n",
    "              [\"S$_s$ (m$^{-1}$)\", ss]]\n",
    "'''\n",
    "table_data = [[\"Statistic\", 'Value'],\n",
    "              [\"K (md$^{-1}$)\", hk],\n",
    "              [\"S$_y$\", sy],\n",
    "              [\"S$_s$\", ss],\n",
    "              [\"RMSE\", f'{he.rmse(y_pred,y_obs):.3}'], \n",
    "              [\"NSE\", f'{he.nse(y_pred,y_obs):.3}']]\n",
    "\n",
    "\n",
    "#set up figure\n",
    "fig = plt.figure(figsize=(15,5))\n",
    "gs = fig.add_gridspec(1,3)\n",
    "ax1 = fig.add_subplot(gs[0,:-1])\n",
    "ax2 = fig.add_subplot(gs[0,-1])\n",
    "ax3 = ax1.twinx()\n",
    "\n",
    "leg = [Line2D([0],[0],marker='o',color='w',label='observed head',markerfacecolor='lightseagreen'),\n",
    "       Line2D([0],[0],linestyle='dashdot',color='red',label='modelled head'),\n",
    "       Line2D([0],[0],color='#9467bd',label='barrage'),\n",
    "       Line2D([0],[0],color='#1f77b4',alpha = 0.5,label='precipitation')]\n",
    "\n",
    "for c,ls,cl,l in zip(cells,style,colors,labels):\n",
    "    d = (0,0,c)\n",
    "    ts = headobj.get_ts(d)\n",
    "    ax1.plot(dates, ts[1:1768, 1],ls=ls,color=cl,label=l) \n",
    "ax1.plot(gwl.date, gwl.gwl,'.', color='lightseagreen', \n",
    "         label='piezometer (observed)') \n",
    "ax1.set(xlabel='date',ylabel='head (m)')\n",
    "ax1.set_ylim(bottom=285)\n",
    "#ax1.set_title(f'{modelname}')\n",
    "ax1.set_title('Single-layer 1D model with drains: '+f'drain elevation = {elev} m,\n",
    "              '+f'drain conductance = {cond} m$^{2}$d$^{-1}$')   \n",
    "#ax1.legend(fancybox=True, framealpha=0.5, loc='upper left')  \n",
    "ax1.legend(handles=leg,loc='best',frameon=False)\n",
    "ax3.plot(dates,rainfall,alpha=0.5,label='precipitation')\n",
    "ax3.set(ylabel='daily precipitation (mm)')\n",
    "ax3.set_ylim(bottom=0,top=200)          \n",
    "\n",
    "table = ax2.table(cellText=table_data, colWidths=[0.55,0.3],\n",
    "                  loc='center')\n",
    "table.set_fontsize(12)\n",
    "table.scale(1,3)\n",
    "ax2.axis('off')"
   ]
  }
 ],
 "metadata": {
  "kernelspec": {
   "display_name": "Python 3",
   "language": "python",
   "name": "python3"
  },
  "language_info": {
   "codemirror_mode": {
    "name": "ipython",
    "version": 3
   },
   "file_extension": ".py",
   "mimetype": "text/x-python",
   "name": "python",
   "nbconvert_exporter": "python",
   "pygments_lexer": "ipython3",
   "version": "3.7.3"
  }
 },
 "nbformat": 4,
 "nbformat_minor": 4
}
